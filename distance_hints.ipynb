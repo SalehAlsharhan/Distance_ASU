{
 "metadata": {
  "name": "",
  "signature": "sha256:1c2ecb71c1b4b761d38f25ad7336c4af64e2f17a2a585414b9891f69a091894b"
 },
 "nbformat": 3,
 "nbformat_minor": 0,
 "worksheets": [
  {
   "cells": [
    {
     "cell_type": "code",
     "collapsed": false,
     "input": [
      "import numpy as np"
     ],
     "language": "python",
     "metadata": {},
     "outputs": [],
     "prompt_number": 14
    },
    {
     "cell_type": "markdown",
     "metadata": {},
     "source": [
      "## Distance matrix"
     ]
    },
    {
     "cell_type": "code",
     "collapsed": false,
     "input": [
      "# fake data\n",
      "n = 5\n",
      "x = np.random.uniform(10,20,n)\n",
      "y = np.random.uniform(10,20,n)"
     ],
     "language": "python",
     "metadata": {},
     "outputs": [],
     "prompt_number": 15
    },
    {
     "cell_type": "code",
     "collapsed": false,
     "input": [
      "# pretend like you don't know n\n",
      "\n",
      "n = len(x)\n",
      "\n",
      "D = np.zeros((n,n))\n",
      "for i in range(n-1):\n",
      "    for j in range(i+1, n):\n",
      "        xd = x[i]-x[j]\n",
      "        yd = y[i]-y[j]\n",
      "        D[i,j] = np.sqrt(xd*xd + yd*yd)\n",
      "        D[j,i] = D[i,j]"
     ],
     "language": "python",
     "metadata": {},
     "outputs": [],
     "prompt_number": 20
    },
    {
     "cell_type": "code",
     "collapsed": false,
     "input": [
      "D"
     ],
     "language": "python",
     "metadata": {},
     "outputs": [
      {
       "metadata": {},
       "output_type": "pyout",
       "prompt_number": 21,
       "text": [
        "array([[ 0.        ,  4.55154699,  4.58017116,  2.67499434,  4.20230375],\n",
        "       [ 4.55154699,  0.        ,  1.03370206,  5.19341609,  7.19742475],\n",
        "       [ 4.58017116,  1.03370206,  0.        ,  4.66308494,  6.610417  ],\n",
        "       [ 2.67499434,  5.19341609,  4.66308494,  0.        ,  2.01725567],\n",
        "       [ 4.20230375,  7.19742475,  6.610417  ,  2.01725567,  0.        ]])"
       ]
      }
     ],
     "prompt_number": 21
    },
    {
     "cell_type": "code",
     "collapsed": false,
     "input": [
      "D1 = D + np.diag(np.ones(n,)* D.max())\n"
     ],
     "language": "python",
     "metadata": {},
     "outputs": [],
     "prompt_number": 22
    },
    {
     "cell_type": "code",
     "collapsed": false,
     "input": [
      "D1"
     ],
     "language": "python",
     "metadata": {},
     "outputs": [
      {
       "metadata": {},
       "output_type": "pyout",
       "prompt_number": 23,
       "text": [
        "array([[ 7.19742475,  4.55154699,  4.58017116,  2.67499434,  4.20230375],\n",
        "       [ 4.55154699,  7.19742475,  1.03370206,  5.19341609,  7.19742475],\n",
        "       [ 4.58017116,  1.03370206,  7.19742475,  4.66308494,  6.610417  ],\n",
        "       [ 2.67499434,  5.19341609,  4.66308494,  7.19742475,  2.01725567],\n",
        "       [ 4.20230375,  7.19742475,  6.610417  ,  2.01725567,  7.19742475]])"
       ]
      }
     ],
     "prompt_number": 23
    },
    {
     "cell_type": "code",
     "collapsed": false,
     "input": [
      "# nearest neighbor distances\n",
      "nnd = D1.min(axis=1)"
     ],
     "language": "python",
     "metadata": {},
     "outputs": [],
     "prompt_number": 24
    },
    {
     "cell_type": "code",
     "collapsed": false,
     "input": [
      "nnd"
     ],
     "language": "python",
     "metadata": {},
     "outputs": [
      {
       "metadata": {},
       "output_type": "pyout",
       "prompt_number": 25,
       "text": [
        "array([ 2.67499434,  1.03370206,  1.03370206,  2.01725567,  2.01725567])"
       ]
      }
     ],
     "prompt_number": 25
    },
    {
     "cell_type": "code",
     "collapsed": false,
     "input": [
      "# find who the nearest neighbor is for each event point\n",
      "\n",
      "D1.argmin(axis=1)"
     ],
     "language": "python",
     "metadata": {},
     "outputs": [
      {
       "metadata": {},
       "output_type": "pyout",
       "prompt_number": 26,
       "text": [
        "array([3, 2, 1, 4, 3])"
       ]
      }
     ],
     "prompt_number": 26
    },
    {
     "cell_type": "code",
     "collapsed": false,
     "input": [],
     "language": "python",
     "metadata": {},
     "outputs": []
    }
   ],
   "metadata": {}
  }
 ]
}